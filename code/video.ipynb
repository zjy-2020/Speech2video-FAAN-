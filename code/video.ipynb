{
 "cells": [
  {
   "cell_type": "code",
   "execution_count": null,
   "metadata": {},
   "outputs": [],
   "source": [
    "G_path = '/.../G_net.pkl'\n",
    "Ds_path = '/.../D_seq_net.pkl'\n",
    "Di_path = '/.../D_img_net.pkl'"
   ]
  },
  {
   "cell_type": "code",
   "execution_count": null,
   "metadata": {},
   "outputs": [],
   "source": [
    "G.save(G_path)\n",
    "D_img.save(Di_path)\n",
    "D_seq.save(Ds_path)"
   ]
  },
  {
   "cell_type": "code",
   "execution_count": null,
   "metadata": {},
   "outputs": [],
   "source": [
    "root = '/.../'\n",
    "step = 0\n",
    "G_LOADPATH = '/.../G_net.pkl'\n",
    "with torch.no_grad():\n",
    "    for x,y in zip(test_dataloader,my_imgG1loader):\n",
    "        waveform,sample_rate = x\n",
    "        image = y\n",
    "        z = Variable(torch.randn(waveform.shape[0],10)).to(device)\n",
    "        waveform=waveform.to(device)\n",
    "        image=image.to(device)\n",
    "        G.load(G_LOADPATH)\n",
    "        fake = G(image,waveform).cpu()\n",
    "        print(fake.shape)\n",
    "        plt.figure(figsize=(200,200))\n",
    "        x,y =1,1\n",
    "        to_image = Image.new('RGB', (200 * 4, 4 * 200))\n",
    "        for i in range(1,BATCH_SIZE):\n",
    "            step += 1\n",
    "            fake1= fake[i]\n",
    "            input = fake1.mul_(0.5).add_(0.5).mul_(255).clamp_(0, 255).permute(1, 2, 0).type(torch.uint8).numpy()\n",
    "            input_tensor = cv2.cvtColor(input, cv2.COLOR_RGB2BGR)\n",
    "            img_path=root+\"Image\"+str(step)+\".jpg\"\n",
    "            \n",
    "            cv2.imwrite(img_path, input_tensor)\n",
    "            im = Image.open(img_path)\n",
    "            to_image.paste(im, ((x - 1) * 200, (y - 1) * 200))\n",
    "            if x>4:\n",
    "                x =1 \n",
    "                y+=1\n",
    "            else : x+=1\n",
    "            plt.subplot(1,17,i)\n",
    "            plt.imshow(np.transpose(vutils.make_grid(fake[i],padding=0,normalize=True),(1,2,0)))\n",
    "            plt.xticks([])\n",
    "            plt.yticks([])\n",
    "        plt.show()\n",
    "        to_image.save(\"/..../\"+str(step)+\".jpg\",\"JPEG\")"
   ]
  },
  {
   "cell_type": "code",
   "execution_count": null,
   "metadata": {},
   "outputs": [],
   "source": [
    "def picvideo():\n",
    "    path ='/.../'\n",
    "    filelist = os.listdir(path) \n",
    "    \n",
    "    filelist.sort(key=lambda x:int(x[5:-4]))\n",
    "    fps = 8\n",
    "    size = (200,200) \n",
    "    file_path = \"/.../\" + str(int(time.time())) + \".mp4\"\n",
    "    fourcc = cv2.VideoWriter_fourcc('D', 'I', 'V', 'X')\n",
    "    video = cv2.VideoWriter( file_path, fourcc, fps, size )\n",
    "    for item in filelist:\n",
    "        if item.endswith('.jpg'):   \n",
    "            item = path + '/' + item \n",
    "            img = cv2.imread(item) \n",
    "            res=cv2.resize(img,(200,200),interpolation=cv2.INTER_CUBIC) \n",
    "            video.write(res)      \n",
    "    video.release() "
   ]
  },
  {
   "cell_type": "code",
   "execution_count": null,
   "metadata": {},
   "outputs": [],
   "source": [
    "def test_pretreatment_wav(main_wav_path, part_wav_path):\n",
    "    for i in range(60000):\n",
    "        if i%120 == 0 :\n",
    "            start_time = int(i-120)\n",
    "            if start_time < 0:\n",
    "                start_time = 0.\n",
    "            end_time = int(i+120)\n",
    "\n",
    "            sound = AudioSegment.from_mp3(main_wav_path)\n",
    "            word = sound[start_time:end_time]\n",
    "\n",
    "            word.export(part_wav_path+str(i)+'.wav', format=\"wav\")"
   ]
  }
 ],
 "metadata": {
  "kernelspec": {
   "display_name": "Python 3",
   "language": "python",
   "name": "python3"
  },
  "language_info": {
   "codemirror_mode": {
    "name": "ipython",
    "version": 3
   },
   "file_extension": ".py",
   "mimetype": "text/x-python",
   "name": "python",
   "nbconvert_exporter": "python",
   "pygments_lexer": "ipython3",
   "version": "3.7.6"
  }
 },
 "nbformat": 4,
 "nbformat_minor": 4
}
